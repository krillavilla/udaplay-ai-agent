{
 "cells": [
  {
   "cell_type": "markdown",
   "id": "6fdd0bcb",
   "metadata": {},
   "source": [
    "# [STARTER] Udaplay Project"
   ]
  },
  {
   "cell_type": "markdown",
   "id": "2b42de90",
   "metadata": {},
   "source": [
    "### Setup"
   ]
  },
  {
   "cell_type": "code",
   "id": "a963d4ca",
   "metadata": {
    "execution": {
     "iopub.execute_input": "2025-08-05T23:20:27.499769Z",
     "iopub.status.busy": "2025-08-05T23:20:27.499220Z",
     "iopub.status.idle": "2025-08-05T23:20:27.504558Z",
     "shell.execute_reply": "2025-08-05T23:20:27.503833Z"
    },
    "ExecuteTime": {
     "end_time": "2025-08-06T03:44:39.343449Z",
     "start_time": "2025-08-06T03:44:39.339011Z"
    }
   },
   "source": [
    "# Only needed for Udacity workspace\n",
    "\n",
    "import importlib.util\n",
    "import sys\n",
    "\n",
    "# Check if 'pysqlite3' is available before importing\n",
    "if importlib.util.find_spec(\"pysqlite3\") is not None:\n",
    "    import pysqlite3\n",
    "    sys.modules['sqlite3'] = sys.modules.pop('pysqlite3')\n",
    "\n",
    "# Install pdfplumber, a dependency for PDF processing in the agent's library\n",
    "if importlib.util.find_spec(\"pdfplumber\") is None:\n",
    "    !pip install pdfplumber"
   ],
   "outputs": [],
   "execution_count": 12
  },
  {
   "cell_type": "code",
   "id": "fd10c06e",
   "metadata": {
    "execution": {
     "iopub.execute_input": "2025-08-05T23:20:27.507423Z",
     "iopub.status.busy": "2025-08-05T23:20:27.507105Z",
     "iopub.status.idle": "2025-08-05T23:20:28.984193Z",
     "shell.execute_reply": "2025-08-05T23:20:28.983494Z"
    },
    "ExecuteTime": {
     "end_time": "2025-08-06T03:44:39.388208Z",
     "start_time": "2025-08-06T03:44:39.385622Z"
    }
   },
   "source": [
    "# Import necessary libraries for stateful agent\n",
    "import os\n",
    "import json\n",
    "import chromadb\n",
    "from chromadb.utils import embedding_functions\n",
    "from tavily import TavilyClient\n",
    "from dotenv import load_dotenv\n",
    "from openai import OpenAI\n",
    "from typing import Optional\n",
    "\n",
    "# Import the agent framework\n",
    "# from lib.agents import Agent"
   ],
   "outputs": [],
   "execution_count": 13
  },
  {
   "cell_type": "code",
   "id": "87e465d4",
   "metadata": {
    "execution": {
     "iopub.execute_input": "2025-08-05T23:20:28.987319Z",
     "iopub.status.busy": "2025-08-05T23:20:28.986887Z",
     "iopub.status.idle": "2025-08-05T23:20:29.029487Z",
     "shell.execute_reply": "2025-08-05T23:20:29.028812Z"
    },
    "ExecuteTime": {
     "end_time": "2025-08-06T03:44:39.460410Z",
     "start_time": "2025-08-06T03:44:39.438612Z"
    }
   },
   "source": [
    "# Load environment variables\n",
    "load_dotenv()\n",
    "\n",
    "# Validate required API keys with helpful error messages\n",
    "openai_api_key = os.getenv('OPENAI_API_KEY')\n",
    "if not openai_api_key:\n",
    "    raise ValueError(\n",
    "        'OPENAI_API_KEY not found in environment variables. '\n",
    "        'Please create a .env file with OPENAI_API_KEY=\"your_key\"'\n",
    "    )\n",
    "\n",
    "tavily_api_key = os.getenv('TAVILY_API_KEY')\n",
    "if not tavily_api_key:\n",
    "    raise ValueError(\n",
    "        'TAVILY_API_KEY not found in environment variables. '\n",
    "        'Please create a .env file with TAVILY_API_KEY=\"your_key\"'\n",
    "    )\n",
    "\n",
    "# Initialize clients with error handling\n",
    "try:\n",
    "    client = OpenAI(\n",
    "        base_url=\"https://openai.vocareum.com/v1\",\n",
    "        api_key=openai_api_key,\n",
    "    )\n",
    "except Exception as e:\n",
    "    raise ValueError(f'Failed to initialize OpenAI client: {str(e)}')\n",
    "\n",
    "try:\n",
    "    tavily_client = TavilyClient(api_key=tavily_api_key)\n",
    "except Exception as e:\n",
    "    raise ValueError(f'Failed to initialize Tavily client: {str(e)}')\n",
    "\n",
    "print('API clients initialized successfully!')"
   ],
   "outputs": [
    {
     "name": "stdout",
     "output_type": "stream",
     "text": [
      "API clients initialized successfully!\n"
     ]
    }
   ],
   "execution_count": 14
  },
  {
   "cell_type": "code",
   "id": "ce364221",
   "metadata": {
    "execution": {
     "iopub.execute_input": "2025-08-05T23:20:29.032124Z",
     "iopub.status.busy": "2025-08-05T23:20:29.031895Z",
     "iopub.status.idle": "2025-08-05T23:20:29.095798Z",
     "shell.execute_reply": "2025-08-05T23:20:29.095033Z"
    },
    "ExecuteTime": {
     "end_time": "2025-08-06T03:44:39.496811Z",
     "start_time": "2025-08-06T03:44:39.491280Z"
    }
   },
   "source": [
    "from pydantic import BaseModel, Field\n",
    "from typing import Optional\n",
    "\n",
    "class AgentAnswer(BaseModel):\n",
    "    answer: str = Field(description=\"The direct answer to the user's question.\")\n",
    "    source: str = Field(description=\"The source of the information, either the game's name or 'Web Search'.\")\n",
    "    fallback_used: bool = Field(description=\"True if a web search was required to answer the question.\")\n",
    "    internal_reasoning: str = Field(description=\"The agent's step-by-step reasoning for its conclusion.\")\n",
    "\n",
    "# Import the agent framework and tooling\n",
    "from lib.agents import Agent\n",
    "from lib.tooling import tool"
   ],
   "outputs": [],
   "execution_count": 15
  },
  {
   "cell_type": "markdown",
   "id": "27de4729",
   "metadata": {},
   "source": [
    "### Tools\n",
    "\n",
    "Build at least 3 tools:\n",
    "- retrieve_game: To search the vector DB\n",
    "- evaluate_retrieval: To assess the retrieval performance\n",
    "- game_web_search: If no good, search the web"
   ]
  },
  {
   "cell_type": "markdown",
   "id": "ce4f14cd",
   "metadata": {},
   "source": [
    "#### Retrieve Game Tool"
   ]
  },
  {
   "cell_type": "code",
   "id": "b25c36dd",
   "metadata": {
    "execution": {
     "iopub.execute_input": "2025-08-05T23:20:29.098803Z",
     "iopub.status.busy": "2025-08-05T23:20:29.098476Z",
     "iopub.status.idle": "2025-08-05T23:20:29.104761Z",
     "shell.execute_reply": "2025-08-05T23:20:29.103938Z"
    },
    "ExecuteTime": {
     "end_time": "2025-08-06T03:44:39.544459Z",
     "start_time": "2025-08-06T03:44:39.540554Z"
    }
   },
   "source": [
    "@tool\n",
    "def retrieve_game_info(query: str, n_results: int = 3) -> list[str]:\n",
    "    \"\"\"\n",
    "    Semantic search: Finds most relevant games in the vector database.\n",
    "    \n",
    "    Args:\n",
    "        query: A question about the game industry\n",
    "        n_results: Number of results to return (default: 3)\n",
    "    \n",
    "    Returns:\n",
    "        List of JSON strings containing game metadata including:\n",
    "        - Platform: Game Boy, PlayStation 5, Xbox 360, etc.\n",
    "        - Name: Name of the game\n",
    "        - YearOfRelease: Year when the game was released\n",
    "        - Description: Additional details about the game\n",
    "        - Genre: Game genre\n",
    "        - Publisher: Game publisher\n",
    "    \"\"\"\n",
    "    print(f\"🔍 Tool: Retrieving game info for query: '{query}'\")\n",
    "    chroma_client = chromadb.PersistentClient(path=\"chromadb\")\n",
    "\n",
    "    embedding_fn = embedding_functions.OpenAIEmbeddingFunction(\n",
    "        api_key=os.getenv(\"OPENAI_API_KEY\"),\n",
    "        api_base=\"https://openai.vocareum.com/v1\",  # For Vocareum\n",
    "        model_name=\"text-embedding-ada-002\"\n",
    "    )\n",
    "\n",
    "    collection = chroma_client.get_collection(\n",
    "        name=\"udaplay\",\n",
    "        embedding_function=embedding_fn\n",
    "    )\n",
    "\n",
    "    # Query the collection\n",
    "    results = collection.query(query_texts=[query], n_results=n_results)\n",
    "\n",
    "    # Format the retrieved documents for the next step\n",
    "    retrieved_docs = []\n",
    "    if results and results['metadatas'][0]:\n",
    "        for meta in results['metadatas'][0]:\n",
    "            # Pass the full JSON metadata as a string\n",
    "            retrieved_docs.append(json.dumps(meta))\n",
    "    \n",
    "    print(f\"Retrieved {len(retrieved_docs)} games from vector database\")\n",
    "    return retrieved_docs"
   ],
   "outputs": [],
   "execution_count": 16
  },
  {
   "cell_type": "markdown",
   "id": "910dc945",
   "metadata": {},
   "source": [
    "#### Evaluate Retrieval Tool"
   ]
  },
  {
   "cell_type": "code",
   "id": "0d9d014b",
   "metadata": {
    "execution": {
     "iopub.execute_input": "2025-08-05T23:20:29.107893Z",
     "iopub.status.busy": "2025-08-05T23:20:29.107625Z",
     "iopub.status.idle": "2025-08-05T23:20:29.112649Z",
     "shell.execute_reply": "2025-08-05T23:20:29.111837Z"
    },
    "ExecuteTime": {
     "end_time": "2025-08-06T03:44:39.595460Z",
     "start_time": "2025-08-06T03:44:39.590947Z"
    }
   },
   "source": [
    "@tool\n",
    "def evaluate_retrieval(query: str, context: list[str]) -> bool:\n",
    "    \"\"\"\n",
    "    Based on the user's question and retrieved documents, analyzes if the documents \n",
    "    are sufficient to answer the question.\n",
    "    \n",
    "    Args:\n",
    "        query: Original question from user\n",
    "        context: Retrieved documents most similar to the user query in the Vector Database\n",
    "    \n",
    "    Returns:\n",
    "        bool: True if documents are sufficient, False if web search is needed\n",
    "    \"\"\"\n",
    "    print(f\"Evaluating if retrieved context is sufficient for: '{query}'\")\n",
    "    \n",
    "    # A simple but effective prompt for the LLM\n",
    "    prompt = f\"\"\"\n",
    "    Based *only* on the provided context below, can you confidently answer the following user question?\n",
    "    Respond with only \"yes\" or \"no\".\n",
    "\n",
    "    User Question: \"{query}\"\n",
    "\n",
    "    Context:\n",
    "    ---\n",
    "    {context}\n",
    "    ---\n",
    "    \"\"\"\n",
    "\n",
    "    # Use the configured client object here\n",
    "    response = client.chat.completions.create(\n",
    "        model=\"gpt-3.5-turbo\",\n",
    "        messages=[{\"role\": \"user\", \"content\": prompt}],\n",
    "        max_tokens=5,\n",
    "        temperature=0.0\n",
    "    )\n",
    "\n",
    "    decision = response.choices[0].message.content.strip().lower()\n",
    "    print(f\"Evaluation: LLM decision is '{decision}'\")\n",
    "    return \"yes\" in decision"
   ],
   "outputs": [],
   "execution_count": 17
  },
  {
   "cell_type": "markdown",
   "id": "c7935a26",
   "metadata": {},
   "source": [
    "#### Game Web Search Tool"
   ]
  },
  {
   "cell_type": "code",
   "id": "2ad698aa",
   "metadata": {
    "execution": {
     "iopub.execute_input": "2025-08-05T23:20:29.115390Z",
     "iopub.status.busy": "2025-08-05T23:20:29.115149Z",
     "iopub.status.idle": "2025-08-05T23:20:29.119719Z",
     "shell.execute_reply": "2025-08-05T23:20:29.118945Z"
    },
    "ExecuteTime": {
     "end_time": "2025-08-06T03:44:39.645748Z",
     "start_time": "2025-08-06T03:44:39.641327Z"
    }
   },
   "source": [
    "@tool\n",
    "def game_web_search(query: str) -> str:\n",
    "    \"\"\"\n",
    "    Performs a web search using Tavily API when local database is insufficient.\n",
    "    \n",
    "    Args:\n",
    "        query: A question about the game industry\n",
    "    \n",
    "    Returns:\n",
    "        str: Content from the most relevant web search result\n",
    "    \"\"\"\n",
    "    print(f\"🌐 Tool: Performing web search for query: '{query}'\")\n",
    "    try:\n",
    "        response = tavily_client.search(query=query, search_depth=\"basic\")\n",
    "        # We'll return the most relevant search result content\n",
    "        content = response['results'][0]['content']\n",
    "        print(f\"Web search completed successfully\")\n",
    "        return content\n",
    "    except Exception as e:\n",
    "        print(f\"Error during Tavily search: {e}\")\n",
    "        return \"Web search failed.\""
   ],
   "outputs": [],
   "execution_count": 18
  },
  {
   "cell_type": "markdown",
   "id": "df844b3b",
   "metadata": {},
   "source": [
    "### Agent Setup and Usage"
   ]
  },
  {
   "cell_type": "code",
   "id": "31c56281",
   "metadata": {
    "execution": {
     "iopub.execute_input": "2025-08-05T23:20:29.122928Z",
     "iopub.status.busy": "2025-08-05T23:20:29.122575Z",
     "iopub.status.idle": "2025-08-05T23:20:31.267971Z",
     "shell.execute_reply": "2025-08-05T23:20:31.267444Z"
    },
    "ExecuteTime": {
     "end_time": "2025-08-06T03:44:43.500889Z",
     "start_time": "2025-08-06T03:44:39.690889Z"
    }
   },
   "source": [
    "# Test the tools individually to verify they work before agent integration\n",
    "print(\"Testing retrieve_game_info:\")\n",
    "results = retrieve_game_info(\"Nintendo games\")\n",
    "print(f\"Retrieved {len(results)} results\")\n",
    "\n",
    "print(\"\\nTesting evaluate_retrieval:\")\n",
    "evaluation = evaluate_retrieval(\"What Nintendo games are available?\", results)\n",
    "print(f\"Evaluation result: {evaluation}\")\n",
    "\n",
    "if not evaluation:\n",
    "    print(\"\\nTesting game_web_search:\")\n",
    "    web_result = game_web_search(\"popular Nintendo games\")\n",
    "    print(f\"Web search result preview: {web_result[:200]}...\")"
   ],
   "outputs": [
    {
     "name": "stderr",
     "output_type": "stream",
     "text": [
      "Failed to send telemetry event ClientStartEvent: capture() takes 1 positional argument but 3 were given\n"
     ]
    },
    {
     "name": "stdout",
     "output_type": "stream",
     "text": [
      "Testing retrieve_game_info:\n",
      "🔍 Tool: Retrieving game info for query: 'Nintendo games'\n",
      "Retrieved 3 games from vector database\n",
      "Retrieved 3 results\n",
      "\n",
      "Testing evaluate_retrieval:\n",
      "Evaluating if retrieved context is sufficient for: 'What Nintendo games are available?'\n",
      "Evaluation: LLM decision is 'no'\n",
      "Evaluation result: False\n",
      "\n",
      "Testing game_web_search:\n",
      "🌐 Tool: Performing web search for query: 'popular Nintendo games'\n",
      "Web search completed successfully\n",
      "Web search result preview: Luigi's Mansion. Luigi's Mansion 3. Mario Wonder. Paper Mario TTYD. Cadence of Hyrule. Link's Crossbow Training. Mario Party Superstars. Super...\n"
     ]
    }
   ],
   "execution_count": 19
  },
  {
   "cell_type": "code",
   "id": "agent_instantiation",
   "metadata": {
    "execution": {
     "iopub.execute_input": "2025-08-05T23:20:31.269968Z",
     "iopub.status.busy": "2025-08-05T23:20:31.269804Z",
     "iopub.status.idle": "2025-08-05T23:20:31.274199Z",
     "shell.execute_reply": "2025-08-05T23:20:31.273724Z"
    },
    "ExecuteTime": {
     "end_time": "2025-08-06T03:44:43.563Z",
     "start_time": "2025-08-06T03:44:43.556626Z"
    }
   },
   "source": [
    "# Define the system prompt for UdaPlay agent\n",
    "UDAPLAY_SYSTEM_PROMPT = \"\"\"\n",
    "You are UdaPlay, an AI research agent specialized in the video game industry.\n",
    "\n",
    "Your capabilities include:\n",
    "1. Searching a comprehensive database of video games using semantic search\n",
    "2. Evaluating whether retrieved information is sufficient to answer queries\n",
    "3. Performing web searches when local knowledge is insufficient\n",
    "\n",
    "When answering questions:\n",
    "1. First, search your local database for relevant game information\n",
    "2. Evaluate if the retrieved context is sufficient to answer the question\n",
    "3. If not sufficient, perform a web search for additional information\n",
    "4. Provide comprehensive, accurate answers based on available information\n",
    "\n",
    "Always be helpful, accurate, and cite your sources when possible.\n",
    "For queries about game releases, platforms, genres, or specific game details,\n",
    "prioritize information from your local database first.\n",
    "\n",
    "Always structure your final response as valid JSON using the AgentAnswer format:\n",
    "{\n",
    "  \"answer\": \"The direct answer to the user's question\",\n",
    "  \"source\": \"Source of information (game name or 'Web Search')\",\n",
    "  \"fallback_used\": true/false,\n",
    "  \"internal_reasoning\": \"Step-by-step reasoning process\"\n",
    "}\n",
    "\"\"\"\n",
    "\n",
    "# Instantiate the stateful Agent\n",
    "udaplay_agent = Agent(\n",
    "    model_name=\"gpt-4o-mini\",\n",
    "    instructions=UDAPLAY_SYSTEM_PROMPT,\n",
    "    tools=[retrieve_game_info, evaluate_retrieval, game_web_search],\n",
    "    temperature=0.0,\n",
    ")\n",
    "\n",
    "print('UdaPlay Agent instantiated successfully!')\n",
    "print(f'Model: {udaplay_agent.model_name}')\n",
    "print(f'Number of tools: {len(udaplay_agent.tools)}')\n",
    "print(f'Available tools: {[tool.name for tool in udaplay_agent.tools]}')"
   ],
   "outputs": [
    {
     "name": "stdout",
     "output_type": "stream",
     "text": [
      "UdaPlay Agent instantiated successfully!\n",
      "Model: gpt-4o-mini\n",
      "Number of tools: 3\n",
      "Available tools: ['retrieve_game_info', 'evaluate_retrieval', 'game_web_search']\n"
     ]
    }
   ],
   "execution_count": 20
  },
  {
   "cell_type": "code",
   "id": "memory_demo",
   "metadata": {
    "execution": {
     "iopub.execute_input": "2025-08-05T23:20:31.276279Z",
     "iopub.status.busy": "2025-08-05T23:20:31.276104Z",
     "iopub.status.idle": "2025-08-05T23:21:00.617205Z",
     "shell.execute_reply": "2025-08-05T23:21:00.616690Z"
    },
    "ExecuteTime": {
     "end_time": "2025-08-06T03:45:08.416111Z",
     "start_time": "2025-08-06T03:44:43.613571Z"
    }
   },
   "source": [
    "# Demonstrate memory and session management\n",
    "# The agent maintains conversation state - let's test this with follow-up questions\n",
    "\n",
    "print(\"=== Demonstrating Stateful Memory ===\")\n",
    "\n",
    "# First question\n",
    "first_query = \"Tell me about Nintendo games in our database\"\n",
    "print(f\"Query 1: {first_query}\")\n",
    "\n",
    "run1 = udaplay_agent.invoke(first_query)\n",
    "state1 = run1.get_final_state()\n",
    "print(f\"Answer 1: {state1['messages'][-1].content}\")\n",
    "print(f\"Messages in session: {len(state1['messages'])}\")\n",
    "\n",
    "# Follow-up question that references the previous conversation\n",
    "followup_query = \"Which of those were released before 2000?\"\n",
    "print(f\"\\nQuery 2 (follow-up): {followup_query}\")\n",
    "\n",
    "run2 = udaplay_agent.invoke(followup_query)\n",
    "state2 = run2.get_final_state()\n",
    "print(f\"Answer 2: {state2['messages'][-1].content}\")\n",
    "print(f\"Messages in session: {len(state2['messages'])}\")\n",
    "\n",
    "# Demonstrate session reset\n",
    "print(\"\\n=== Session Management ===\")\n",
    "print(f\"Session runs before reset: {len(udaplay_agent.get_session_runs())}\")\n",
    "\n",
    "# Start a new session\n",
    "new_session_query = \"What racing games do we have?\"\n",
    "run3 = udaplay_agent.invoke(new_session_query, session_id=\"racing_session\")\n",
    "state3 = run3.get_final_state()\n",
    "print(f\"New session answer: {state3['messages'][-1].content}\")\n",
    "\n",
    "# Show that different sessions have different histories\n",
    "print(f\"Default session runs: {len(udaplay_agent.get_session_runs('default'))}\")\n",
    "print(f\"Racing session runs: {len(udaplay_agent.get_session_runs('racing_session'))}\")"
   ],
   "outputs": [
    {
     "name": "stdout",
     "output_type": "stream",
     "text": [
      "=== Demonstrating Stateful Memory ===\n",
      "Query 1: Tell me about Nintendo games in our database\n",
      "[StateMachine] Starting: __entry__\n",
      "[StateMachine] Executing step: message_prep\n"
     ]
    },
    {
     "name": "stderr",
     "output_type": "stream",
     "text": [
      "Failed to send telemetry event ClientStartEvent: capture() takes 1 positional argument but 3 were given\n"
     ]
    },
    {
     "name": "stdout",
     "output_type": "stream",
     "text": [
      "[StateMachine] Executing step: llm_processor\n",
      "🔍 Tool: Retrieving game info for query: 'Nintendo'\n",
      "Retrieved 5 games from vector database\n",
      "[StateMachine] Executing step: tool_executor\n",
      "[StateMachine] Executing step: llm_processor\n",
      "[StateMachine] Terminating: __termination__\n",
      "Answer 1: {\n",
      "  \"answer\": \"Here are some notable Nintendo games in our database: 1. **Super Mario 64** - A groundbreaking 3D platformer released in 1996 for the Nintendo 64, featuring Mario's quest to rescue Princess Peach. 2. **Super Mario World** - A classic platformer from 1990 for the Super Nintendo Entertainment System (SNES), where Mario embarks on a quest to save Princess Toadstool and Dinosaur Land from Bowser. 3. **Mario Kart 8 Deluxe** - Released in 2017 for the Nintendo Switch, this is an enhanced version of Mario Kart 8, featuring new characters, tracks, and improved gameplay mechanics.\",\n",
      "  \"source\": \"Local Database\",\n",
      "  \"fallback_used\": false,\n",
      "  \"internal_reasoning\": \"I retrieved information about Nintendo games from the local database and found sufficient details about three notable titles. No web search was needed.\"\n",
      "}\n",
      "Messages in session: 5\n",
      "\n",
      "Query 2 (follow-up): Which of those were released before 2000?\n",
      "[StateMachine] Starting: __entry__\n",
      "[StateMachine] Executing step: message_prep\n",
      "[StateMachine] Executing step: llm_processor\n",
      "Evaluating if retrieved context is sufficient for: 'Which of those were released before 2000?'\n",
      "Evaluation: LLM decision is 'yes'\n",
      "[StateMachine] Executing step: tool_executor\n",
      "[StateMachine] Executing step: llm_processor\n",
      "[StateMachine] Terminating: __termination__\n",
      "Answer 2: {\n",
      "  \"answer\": \"The Nintendo games released before 2000 are: 1. **Super Mario 64** - Released in 1996. 2. **Super Mario World** - Released in 1990.\",\n",
      "  \"source\": \"Local Database\",\n",
      "  \"fallback_used\": false,\n",
      "  \"internal_reasoning\": \"I evaluated the retrieved information and confirmed that both Super Mario 64 (1996) and Super Mario World (1990) were released before 2000. No web search was needed.\"\n",
      "}\n",
      "Messages in session: 9\n",
      "\n",
      "=== Session Management ===\n",
      "Session runs before reset: 2\n",
      "[StateMachine] Starting: __entry__\n",
      "[StateMachine] Executing step: message_prep\n"
     ]
    },
    {
     "name": "stderr",
     "output_type": "stream",
     "text": [
      "Failed to send telemetry event ClientStartEvent: capture() takes 1 positional argument but 3 were given\n"
     ]
    },
    {
     "name": "stdout",
     "output_type": "stream",
     "text": [
      "[StateMachine] Executing step: llm_processor\n",
      "🔍 Tool: Retrieving game info for query: 'racing games'\n",
      "Retrieved 3 games from vector database\n",
      "[StateMachine] Executing step: tool_executor\n",
      "[StateMachine] Executing step: llm_processor\n",
      "Evaluating if retrieved context is sufficient for: 'What racing games do we have?'\n",
      "Evaluation: LLM decision is 'yes'\n",
      "[StateMachine] Executing step: tool_executor\n",
      "[StateMachine] Executing step: llm_processor\n",
      "[StateMachine] Terminating: __termination__\n",
      "New session answer: {\n",
      "  \"answer\": \"We have the following racing games: 1. Gran Turismo (1997) - A realistic racing simulator featuring a wide array of cars and tracks, available on PlayStation 1. 2. Gran Turismo 5 (2010) - A comprehensive racing simulator with a vast selection of vehicles and tracks, available on PlayStation 3.\",\n",
      "  \"source\": \"Gran Turismo, Gran Turismo 5\",\n",
      "  \"fallback_used\": false,\n",
      "  \"internal_reasoning\": \"I retrieved information about racing games from the local database, which included details about Gran Turismo and Gran Turismo 5. The context provided sufficient information to answer the user's question.\"\n",
      "}\n",
      "Default session runs: 2\n",
      "Racing session runs: 1\n"
     ]
    }
   ],
   "execution_count": 21
  },
  {
   "cell_type": "markdown",
   "id": "f0a55081",
   "metadata": {},
   "source": [
    "### (Optional) Advanced"
   ]
  },
  {
   "cell_type": "code",
   "id": "eb83fbb1",
   "metadata": {
    "execution": {
     "iopub.execute_input": "2025-08-05T23:21:00.619036Z",
     "iopub.status.busy": "2025-08-05T23:21:00.618882Z",
     "iopub.status.idle": "2025-08-05T23:21:00.621393Z",
     "shell.execute_reply": "2025-08-05T23:21:00.620859Z"
    },
    "ExecuteTime": {
     "end_time": "2025-08-06T03:45:08.474759Z",
     "start_time": "2025-08-06T03:45:08.472521Z"
    }
   },
   "source": [
    "# TODO: Update your agent with long-term memory\n",
    "# TODO: Convert the agent to be a state machine, with the tools being pre-defined nodes"
   ],
   "outputs": [],
   "execution_count": 22
  }
 ],
 "metadata": {
  "kernelspec": {
   "display_name": "Python 3",
   "language": "python",
   "name": "python3"
  },
  "language_info": {
   "codemirror_mode": {
    "name": "ipython",
    "version": 3
   },
   "file_extension": ".py",
   "mimetype": "text/x-python",
   "name": "python",
   "nbconvert_exporter": "python",
   "pygments_lexer": "ipython3",
   "version": "3.12.11"
  }
 },
 "nbformat": 4,
 "nbformat_minor": 5
}
