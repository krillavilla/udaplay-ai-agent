{
 "cells": [
  {
   "cell_type": "markdown",
   "id": "6fdd0bcb",
   "metadata": {},
   "source": [
    "# [STARTER] Udaplay Project"
   ]
  },
  {
   "cell_type": "markdown",
   "id": "9325b035",
   "metadata": {},
   "source": [
    "## Part 01 - Vector Database\n",
    "\n",
    "In this part of the project, you'll build a vector database using ChromaDB.\n",
    "\n",
    "Your vector database will be populated with video game data and used for semantic search and retrieval."
   ]
  },
  {
   "cell_type": "markdown",
   "id": "2b42de90",
   "metadata": {},
   "source": [
    "### Setup"
   ]
  },
  {
   "cell_type": "code",
   "id": "a963d4ca",
   "metadata": {
    "execution": {
     "iopub.execute_input": "2025-08-05T23:21:13.689821Z",
     "iopub.status.busy": "2025-08-05T23:21:13.688928Z",
     "iopub.status.idle": "2025-08-05T23:21:13.700907Z",
     "shell.execute_reply": "2025-08-05T23:21:13.698870Z"
    },
    "ExecuteTime": {
     "end_time": "2025-08-06T03:46:08.409401Z",
     "start_time": "2025-08-06T03:46:08.403206Z"
    }
   },
   "source": [
    "# Only needed for Udacity workspace\n",
    "\n",
    "import importlib.util\n",
    "import sys\n",
    "\n",
    "# Check if 'pysqlite3' is available before importing\n",
    "if importlib.util.find_spec(\"pysqlite3\") is not None:\n",
    "    import pysqlite3\n",
    "    sys.modules['sqlite3'] = sys.modules.pop('pysqlite3')"
   ],
   "outputs": [],
   "execution_count": 9
  },
  {
   "cell_type": "code",
   "id": "fd10c06e",
   "metadata": {
    "execution": {
     "iopub.execute_input": "2025-08-05T23:21:13.708463Z",
     "iopub.status.busy": "2025-08-05T23:21:13.707884Z",
     "iopub.status.idle": "2025-08-05T23:21:14.261384Z",
     "shell.execute_reply": "2025-08-05T23:21:14.260843Z"
    },
    "ExecuteTime": {
     "end_time": "2025-08-06T03:46:08.435102Z",
     "start_time": "2025-08-06T03:46:08.420060Z"
    }
   },
   "source": [
    "import os\n",
    "import json\n",
    "import chromadb\n",
    "from chromadb.utils import embedding_functions\n",
    "from dotenv import load_dotenv\n",
    "\n",
    "# Load environment variables\n",
    "load_dotenv()\n",
    "\n",
    "print(\"Libraries imported successfully!\")"
   ],
   "outputs": [
    {
     "name": "stdout",
     "output_type": "stream",
     "text": [
      "Libraries imported successfully!\n"
     ]
    }
   ],
   "execution_count": 10
  },
  {
   "cell_type": "code",
   "id": "87e465d4",
   "metadata": {
    "execution": {
     "iopub.execute_input": "2025-08-05T23:21:14.263546Z",
     "iopub.status.busy": "2025-08-05T23:21:14.263333Z",
     "iopub.status.idle": "2025-08-05T23:21:14.790935Z",
     "shell.execute_reply": "2025-08-05T23:21:14.790316Z"
    },
    "ExecuteTime": {
     "end_time": "2025-08-06T03:46:08.536073Z",
     "start_time": "2025-08-06T03:46:08.510012Z"
    }
   },
   "source": [
    "# Initialize ChromaDB client with persistent storage\n",
    "chroma_client = chromadb.PersistentClient(path=\"chromadb\")\n",
    "\n",
    "# Set up OpenAI embedding function\n",
    "embedding_fn = embedding_functions.OpenAIEmbeddingFunction(\n",
    "    api_key=os.getenv(\"OPENAI_API_KEY\"),\n",
    "    api_base=\"https://openai.vocareum.com/v1\",\n",
    "    model_name=\"text-embedding-ada-002\"\n",
    ")\n",
    "\n",
    "print(\"ChromaDB client and embedding function initialized!\")"
   ],
   "outputs": [
    {
     "name": "stderr",
     "output_type": "stream",
     "text": [
      "Failed to send telemetry event ClientStartEvent: capture() takes 1 positional argument but 3 were given\n"
     ]
    },
    {
     "name": "stdout",
     "output_type": "stream",
     "text": [
      "ChromaDB client and embedding function initialized!\n"
     ]
    }
   ],
   "execution_count": 11
  },
  {
   "cell_type": "code",
   "id": "ce364221",
   "metadata": {
    "execution": {
     "iopub.execute_input": "2025-08-05T23:21:14.793101Z",
     "iopub.status.busy": "2025-08-05T23:21:14.792952Z",
     "iopub.status.idle": "2025-08-05T23:21:14.947669Z",
     "shell.execute_reply": "2025-08-05T23:21:14.947180Z"
    },
    "ExecuteTime": {
     "end_time": "2025-08-06T03:46:08.555961Z",
     "start_time": "2025-08-06T03:46:08.549132Z"
    }
   },
   "source": [
    "# Create or get collection\n",
    "collection_name = \"udaplay\"\n",
    "\n",
    "try:\n",
    "    # Try to get existing collection first\n",
    "    collection = chroma_client.get_collection(\n",
    "        name=collection_name,\n",
    "        embedding_function=embedding_fn\n",
    "    )\n",
    "    print(f\"Retrieved existing collection: {collection_name}\")\n",
    "    print(f\"Current document count: {collection.count()}\")\n",
    "except:\n",
    "    # Create new collection if it doesn't exist\n",
    "    collection = chroma_client.create_collection(\n",
    "        name=collection_name,\n",
    "        embedding_function=embedding_fn\n",
    "    )\n",
    "    print(f\"Created new collection: {collection_name}\")"
   ],
   "outputs": [
    {
     "name": "stdout",
     "output_type": "stream",
     "text": [
      "Retrieved existing collection: udaplay\n",
      "Current document count: 30\n"
     ]
    }
   ],
   "execution_count": 12
  },
  {
   "cell_type": "markdown",
   "id": "df844b3b",
   "metadata": {},
   "source": [
    "### Data Loading"
   ]
  },
  {
   "cell_type": "code",
   "id": "31c56281",
   "metadata": {
    "execution": {
     "iopub.execute_input": "2025-08-05T23:21:14.949863Z",
     "iopub.status.busy": "2025-08-05T23:21:14.949710Z",
     "iopub.status.idle": "2025-08-05T23:21:14.953547Z",
     "shell.execute_reply": "2025-08-05T23:21:14.952983Z"
    },
    "ExecuteTime": {
     "end_time": "2025-08-06T03:46:08.604388Z",
     "start_time": "2025-08-06T03:46:08.600262Z"
    }
   },
   "source": [
    "# Load game data from JSON files\n",
    "data_dir = \"games\"\n",
    "\n",
    "# Check if directory exists\n",
    "if not os.path.exists(data_dir):\n",
    "    print(f\"Directory '{data_dir}' not found!\")\n",
    "    print(\"Please ensure the games directory exists with JSON files.\")\n",
    "else:\n",
    "    json_files = [f for f in os.listdir(data_dir) if f.endswith('.json')]\n",
    "    print(f\"Found {len(json_files)} JSON files in '{data_dir}' directory\")\n",
    "    \n",
    "    # Show first few files\n",
    "    for i, filename in enumerate(sorted(json_files)[:5]):\n",
    "        print(f\"   {i+1}. {filename}\")\n",
    "    \n",
    "    if len(json_files) > 5:\n",
    "        print(f\"   ... and {len(json_files) - 5} more files\")"
   ],
   "outputs": [
    {
     "name": "stdout",
     "output_type": "stream",
     "text": [
      "Found 15 JSON files in 'games' directory\n",
      "   1. 001.json\n",
      "   2. 002.json\n",
      "   3. 003.json\n",
      "   4. 004.json\n",
      "   5. 005.json\n",
      "   ... and 10 more files\n"
     ]
    }
   ],
   "execution_count": 13
  },
  {
   "cell_type": "code",
   "id": "eb83fbb1",
   "metadata": {
    "execution": {
     "iopub.execute_input": "2025-08-05T23:21:14.955705Z",
     "iopub.status.busy": "2025-08-05T23:21:14.955556Z",
     "iopub.status.idle": "2025-08-05T23:21:25.928849Z",
     "shell.execute_reply": "2025-08-05T23:21:25.926831Z"
    },
    "ExecuteTime": {
     "end_time": "2025-08-06T03:46:19.581557Z",
     "start_time": "2025-08-06T03:46:08.650822Z"
    }
   },
   "source": [
    "# Add documents to ChromaDB\n",
    "if os.path.exists(data_dir):\n",
    "    documents_added = 0\n",
    "    \n",
    "    for file_name in sorted(os.listdir(data_dir)):\n",
    "        if not file_name.endswith(\".json\"):\n",
    "            continue\n",
    "            \n",
    "        file_path = os.path.join(data_dir, file_name)\n",
    "        \n",
    "        try:\n",
    "            with open(file_path, \"r\", encoding=\"utf-8\") as f:\n",
    "                game = json.load(f)\n",
    "            \n",
    "            # Create content string for embedding\n",
    "            content = f\"[{game['Platform']}] {game['Name']} ({game['YearOfRelease']}) - {game['Description']}\"\n",
    "            \n",
    "            # Use filename (without extension) as document ID\n",
    "            doc_id = os.path.splitext(file_name)[0]\n",
    "            \n",
    "            # Add to collection\n",
    "            collection.add(\n",
    "                ids=[doc_id],\n",
    "                documents=[content],\n",
    "                metadatas=[game]\n",
    "            )\n",
    "            \n",
    "            documents_added += 1\n",
    "            \n",
    "        except Exception as e:\n",
    "            print(f\"Error processing {file_name}: {e}\")\n",
    "    \n",
    "    print(f\"Successfully added {documents_added} documents to ChromaDB\")\n",
    "    print(f\"Total documents in collection: {collection.count()}\")\n",
    "else:\n",
    "    print(\"Games directory not found. Cannot load data.\")"
   ],
   "outputs": [
    {
     "name": "stdout",
     "output_type": "stream",
     "text": [
      "Successfully added 15 documents to ChromaDB\n",
      "Total documents in collection: 30\n"
     ]
    }
   ],
   "execution_count": 14
  },
  {
   "cell_type": "markdown",
   "id": "semantic_search_demo",
   "metadata": {},
   "source": [
    "### Semantic Search Demonstration\n",
    "\n",
    "Now that we have loaded all the game data into our vector database, let's demonstrate that semantic search works properly."
   ]
  },
  {
   "cell_type": "code",
   "id": "test_semantic_search",
   "metadata": {
    "execution": {
     "iopub.execute_input": "2025-08-05T23:21:25.936510Z",
     "iopub.status.busy": "2025-08-05T23:21:25.935840Z",
     "iopub.status.idle": "2025-08-05T23:21:29.131326Z",
     "shell.execute_reply": "2025-08-05T23:21:29.130888Z"
    },
    "ExecuteTime": {
     "end_time": "2025-08-06T03:46:22.628821Z",
     "start_time": "2025-08-06T03:46:19.684560Z"
    }
   },
   "source": [
    "# Test semantic search functionality\n",
    "def test_semantic_search(collection, query, n_results=3):\n",
    "    \"\"\"Test semantic search and display results\"\"\"\n",
    "    print(f\"\\n=== Searching for: '{query}' ===\")\n",
    "    \n",
    "    results = collection.query(\n",
    "        query_texts=[query],\n",
    "        n_results=n_results,\n",
    "        include=['documents', 'metadatas', 'distances']\n",
    "    )\n",
    "    \n",
    "    if results['documents'][0]:\n",
    "        print(f\"Found {len(results['documents'][0])} results:\")\n",
    "        \n",
    "        for i, (doc, metadata, distance) in enumerate(zip(\n",
    "            results['documents'][0], \n",
    "            results['metadatas'][0], \n",
    "            results['distances'][0]\n",
    "        )):\n",
    "            similarity = 1 - distance  # Convert distance to similarity\n",
    "            print(f\"\\n{i+1}. {metadata['Name']} ({metadata['YearOfRelease']})\")\n",
    "            print(f\"   Platform: {metadata['Platform']}\")\n",
    "            print(f\"   Genre: {metadata.get('Genre', 'N/A')}\")\n",
    "            print(f\"   Publisher: {metadata.get('Publisher', 'N/A')}\")\n",
    "            print(f\"   Similarity: {similarity:.3f}\")\n",
    "            print(f\"   Description: {metadata['Description'][:100]}...\")\n",
    "    else:\n",
    "        print(\"No results found.\")\n",
    "    \n",
    "    return results\n",
    "\n",
    "# Test with different types of queries\n",
    "test_queries = [\n",
    "    \"Nintendo racing games\",\n",
    "    \"RPG games with fantasy themes\",\n",
    "    \"PlayStation games from the 1990s\",\n",
    "    \"Action games with shooting mechanics\",\n",
    "    \"Games suitable for families\"\n",
    "]\n",
    "\n",
    "for query in test_queries:\n",
    "    test_semantic_search(collection, query, n_results=2)"
   ],
   "outputs": [
    {
     "name": "stdout",
     "output_type": "stream",
     "text": [
      "\n",
      "=== Searching for: 'Nintendo racing games' ===\n",
      "Found 2 results:\n",
      "\n",
      "1. Mario Kart 8 Deluxe (2017)\n",
      "   Platform: Nintendo Switch\n",
      "   Genre: Racing\n",
      "   Publisher: Nintendo\n",
      "   Similarity: 0.854\n",
      "   Description: An enhanced version of Mario Kart 8, featuring new characters, tracks, and improved gameplay mechani...\n",
      "\n",
      "2. Mario Kart 8 Deluxe (2017)\n",
      "   Platform: Nintendo Switch\n",
      "   Genre: Racing\n",
      "   Publisher: Nintendo\n",
      "   Similarity: 0.854\n",
      "   Description: An enhanced version of Mario Kart 8, featuring new characters, tracks, and improved gameplay mechani...\n",
      "\n",
      "=== Searching for: 'RPG games with fantasy themes' ===\n",
      "Found 2 results:\n",
      "\n",
      "1. Pokémon Ruby and Sapphire (2002)\n",
      "   Platform: Game Boy Advance\n",
      "   Genre: Role-playing\n",
      "   Publisher: Nintendo\n",
      "   Similarity: 0.804\n",
      "   Description: Third-generation Pokémon games set in the Hoenn region, featuring new Pokémon and double battles....\n",
      "\n",
      "2. Pokémon Ruby and Sapphire (2002)\n",
      "   Platform: Game Boy Advance\n",
      "   Genre: Role-playing\n",
      "   Publisher: Nintendo\n",
      "   Similarity: 0.804\n",
      "   Description: Third-generation Pokémon games set in the Hoenn region, featuring new Pokémon and double battles....\n",
      "\n",
      "=== Searching for: 'PlayStation games from the 1990s' ===\n",
      "Found 2 results:\n",
      "\n",
      "1. Gran Turismo (1997)\n",
      "   Platform: PlayStation 1\n",
      "   Genre: Racing\n",
      "   Publisher: Sony Computer Entertainment\n",
      "   Similarity: 0.827\n",
      "   Description: A realistic racing simulator featuring a wide array of cars and tracks, setting a new standard for t...\n",
      "\n",
      "2. Gran Turismo (1997)\n",
      "   Platform: PlayStation 1\n",
      "   Genre: Racing\n",
      "   Publisher: Sony Computer Entertainment\n",
      "   Similarity: 0.827\n",
      "   Description: A realistic racing simulator featuring a wide array of cars and tracks, setting a new standard for t...\n",
      "\n",
      "=== Searching for: 'Action games with shooting mechanics' ===\n",
      "Found 2 results:\n",
      "\n",
      "1. Gran Turismo 5 (2010)\n",
      "   Platform: PlayStation 3\n",
      "   Genre: Racing\n",
      "   Publisher: Sony Computer Entertainment\n",
      "   Similarity: 0.797\n",
      "   Description: A comprehensive racing simulator featuring a vast selection of vehicles and tracks, with realistic d...\n",
      "\n",
      "2. Gran Turismo 5 (2010)\n",
      "   Platform: PlayStation 3\n",
      "   Genre: Racing\n",
      "   Publisher: Sony Computer Entertainment\n",
      "   Similarity: 0.797\n",
      "   Description: A comprehensive racing simulator featuring a vast selection of vehicles and tracks, with realistic d...\n",
      "\n",
      "=== Searching for: 'Games suitable for families' ===\n",
      "Found 2 results:\n",
      "\n",
      "1. Kinect Adventures! (2010)\n",
      "   Platform: Xbox 360\n",
      "   Genre: Party\n",
      "   Publisher: Microsoft Game Studios\n",
      "   Similarity: 0.794\n",
      "   Description: A collection of mini-games designed to showcase the capabilities of the Kinect motion sensor....\n",
      "\n",
      "2. Kinect Adventures! (2010)\n",
      "   Platform: Xbox 360\n",
      "   Genre: Party\n",
      "   Publisher: Microsoft Game Studios\n",
      "   Similarity: 0.794\n",
      "   Description: A collection of mini-games designed to showcase the capabilities of the Kinect motion sensor....\n"
     ]
    }
   ],
   "execution_count": 15
  },
  {
   "cell_type": "code",
   "id": "collection_stats",
   "metadata": {
    "execution": {
     "iopub.execute_input": "2025-08-05T23:21:29.133229Z",
     "iopub.status.busy": "2025-08-05T23:21:29.133055Z",
     "iopub.status.idle": "2025-08-05T23:21:29.138660Z",
     "shell.execute_reply": "2025-08-05T23:21:29.138158Z"
    },
    "ExecuteTime": {
     "end_time": "2025-08-06T03:46:22.688531Z",
     "start_time": "2025-08-06T03:46:22.683021Z"
    }
   },
   "source": [
    "# Display collection statistics\n",
    "print(\"=== ChromaDB Collection Statistics ===\")\n",
    "print(f\"Collection name: {collection.name}\")\n",
    "print(f\"Total documents: {collection.count()}\")\n",
    "\n",
    "# Get a sample of documents to verify data structure\n",
    "sample_docs = collection.get(limit=3, include=['documents', 'metadatas'])\n",
    "\n",
    "print(\"\\n=== Sample Documents ===\")\n",
    "for i, (doc, metadata) in enumerate(zip(sample_docs['documents'], sample_docs['metadatas'])):\n",
    "    print(f\"\\n{i+1}. Document ID: {sample_docs['ids'][i]}\")\n",
    "    print(f\"   Game: {metadata['Name']}\")\n",
    "    print(f\"   Platform: {metadata['Platform']}\")\n",
    "    print(f\"   Year: {metadata['YearOfRelease']}\")\n",
    "    print(f\"   Content: {doc[:100]}...\")"
   ],
   "outputs": [
    {
     "name": "stdout",
     "output_type": "stream",
     "text": [
      "=== ChromaDB Collection Statistics ===\n",
      "Collection name: udaplay\n",
      "Total documents: 30\n",
      "\n",
      "=== Sample Documents ===\n",
      "\n",
      "1. Document ID: 001\n",
      "   Game: Gran Turismo\n",
      "   Platform: PlayStation 1\n",
      "   Year: 1997\n",
      "   Content: [PlayStation 1] Gran Turismo (1997) - A realistic racing simulator featuring a wide array of cars an...\n",
      "\n",
      "2. Document ID: 002\n",
      "   Game: Grand Theft Auto: San Andreas\n",
      "   Platform: PlayStation 2\n",
      "   Year: 2004\n",
      "   Content: [PlayStation 2] Grand Theft Auto: San Andreas (2004) - An expansive open-world game set in the ficti...\n",
      "\n",
      "3. Document ID: 003\n",
      "   Game: Gran Turismo 5\n",
      "   Platform: PlayStation 3\n",
      "   Year: 2010\n",
      "   Content: [PlayStation 3] Gran Turismo 5 (2010) - A comprehensive racing simulator featuring a vast selection ...\n"
     ]
    }
   ],
   "execution_count": 16
  },
  {
   "cell_type": "markdown",
   "id": "part1_summary",
   "metadata": {},
   "source": [
    "## Part 1 Summary\n",
    "\n",
    "✅ **Completed Tasks:**\n",
    "\n",
    "1. **Vector Database Setup**: Successfully configured ChromaDB with persistent storage\n",
    "2. **Embedding Configuration**: Set up OpenAI embeddings for semantic search\n",
    "3. **Data Processing**: Loaded and processed game JSON files\n",
    "4. **Data Indexing**: Added all games to the vector database with appropriate metadata\n",
    "5. **Semantic Search Verification**: Demonstrated that the vector database can be queried for semantic search\n",
    "\n",
    "**Key Features Implemented:**\n",
    "- Persistent ChromaDB client with local storage\n",
    "- OpenAI embedding function for text vectorization\n",
    "- Structured document format with game metadata\n",
    "- Semantic search capabilities with similarity scoring\n",
    "- Comprehensive game database covering multiple platforms and genres\n",
    "\n",
    "**Ready for Part 2:** The vector database is now ready to be used by the AI agent in Part 2 for intelligent game information retrieval."
   ]
  }
 ],
 "metadata": {
  "kernelspec": {
   "display_name": "Python 3",
   "language": "python",
   "name": "python3"
  },
  "language_info": {
   "codemirror_mode": {
    "name": "ipython",
    "version": 3
   },
   "file_extension": ".py",
   "mimetype": "text/x-python",
   "name": "python",
   "nbconvert_exporter": "python",
   "pygments_lexer": "ipython3",
   "version": "3.12.11"
  }
 },
 "nbformat": 4,
 "nbformat_minor": 5
}
