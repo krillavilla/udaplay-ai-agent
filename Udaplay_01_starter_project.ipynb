{
 "cells": [
  {
   "cell_type": "markdown",
   "id": "6fdd0bcb",
   "metadata": {},
   "source": [
    "# [STARTER] Udaplay Project"
   ]
  },
  {
   "cell_type": "markdown",
   "id": "9325b035",
   "metadata": {},
   "source": [
    "## Part 01 - Offline RAG\n",
    "\n",
    "In this part of the project, you'll build your VectorDB using Chroma.\n",
    "\n",
    "The data is inside folder `project/starter/games`. Each file will become a document in the collection you'll create.\n",
    "Example.:\n",
    "```json\n",
    "{\n",
    "  \"Name\": \"Gran Turismo\",\n",
    "  \"Platform\": \"PlayStation 1\",\n",
    "  \"Genre\": \"Racing\",\n",
    "  \"Publisher\": \"Sony Computer Entertainment\",\n",
    "  \"Description\": \"A realistic racing simulator featuring a wide array of cars and tracks, setting a new standard for the genre.\",\n",
    "  \"YearOfRelease\": 1997\n",
    "}\n",
    "```\n"
   ]
  },
  {
   "cell_type": "markdown",
   "id": "2b42de90",
   "metadata": {},
   "source": [
    "### Setup"
   ]
  },
  {
   "cell_type": "code",
   "id": "61283b25",
   "metadata": {
    "ExecuteTime": {
     "end_time": "2025-07-24T00:26:49.245575Z",
     "start_time": "2025-07-24T00:26:49.238833Z"
    }
   },
   "source": [
    "# Only needed for Udacity workspace\n",
    "\n",
    "import importlib.util\n",
    "import sys\n",
    "\n",
    "# Check if 'pysqlite3' is available before importing\n",
    "if importlib.util.find_spec(\"pysqlite3\") is not None:\n",
    "    import pysqlite3\n",
    "    sys.modules['sqlite3'] = sys.modules.pop('pysqlite3')"
   ],
   "outputs": [],
   "execution_count": 10
  },
  {
   "cell_type": "code",
   "id": "a8d56169",
   "metadata": {
    "ExecuteTime": {
     "end_time": "2025-07-24T00:26:49.279350Z",
     "start_time": "2025-07-24T00:26:49.275667Z"
    }
   },
   "source": [
    "import os\n",
    "import json\n",
    "import chromadb\n",
    "from chromadb.utils import embedding_functions\n",
    "from dotenv import load_dotenv"
   ],
   "outputs": [],
   "execution_count": 11
  },
  {
   "cell_type": "code",
   "id": "fd10c06e",
   "metadata": {
    "ExecuteTime": {
     "end_time": "2025-07-24T00:26:49.332682Z",
     "start_time": "2025-07-24T00:26:49.329740Z"
    }
   },
   "source": [
    "# TODO: Create a .env file with the following variables\n",
    "# OPENAI_API_KEY=\"YOUR_KEY\"\n",
    "# CHROMA_OPENAI_API_KEY=\"YOUR_KEY\"\n",
    "# TAVILY_API_KEY=\"YOUR_KEY\""
   ],
   "outputs": [],
   "execution_count": 12
  },
  {
   "cell_type": "code",
   "id": "87e465d4",
   "metadata": {},
   "source": [
    "# Load environment variables\n",
    "load_dotenv()\n",
    "\n",
    "# Validate required API keys with helpful error messages\n",
    "openai_api_key = os.getenv('OPENAI_API_KEY')\n",
    "if not openai_api_key:\n",
    "    raise ValueError(\n",
    "        'OPENAI_API_KEY not found in environment variables. '\n",
    "        'Please create a .env file with OPENAI_API_KEY=\"your_key\"'\n",
    "    )\n",
    "\n",
    "chroma_api_key = os.getenv('CHROMA_OPENAI_API_KEY') or openai_api_key\n",
    "if not chroma_api_key:\n",
    "    raise ValueError(\n",
    "        'CHROMA_OPENAI_API_KEY not found in environment variables. '\n",
    "        'Please create a .env file with CHROMA_OPENAI_API_KEY=\"your_key\"'\n",
    "    )\n",
    "\n",
    "print('✅ API keys loaded successfully!')"
   ],
   "outputs": [],
   "execution_count": null
  },
  {
   "cell_type": "markdown",
   "id": "27de4729",
   "metadata": {},
   "source": [
    "### VectorDB Instance"
   ]
  },
  {
   "cell_type": "code",
   "id": "b25c36dd",
   "metadata": {},
   "source": [
    "# Instantiate ChromaDB Client\n",
    "chroma_client = chromadb.PersistentClient(path=\"chromadb\")"
   ],
   "outputs": [],
   "execution_count": null
  },
  {
   "cell_type": "markdown",
   "id": "df844b3b",
   "metadata": {},
   "source": [
    "### Collection"
   ]
  },
  {
   "cell_type": "code",
   "id": "31c56281",
   "metadata": {
    "ExecuteTime": {
     "end_time": "2025-07-24T00:26:49.660537Z",
     "start_time": "2025-07-24T00:26:49.595741Z"
    }
   },
   "source": [
    "# TODO: Pick one embedding function\n",
    "# If picking something different than openai, \n",
    "# make sure you use the same when loading it\n",
    "embedding_fn = embedding_functions.OpenAIEmbeddingFunction(\n",
    "    api_key=os.getenv(\"OPENAI_API_KEY\"),\n",
    "    api_base=\"https://openai.vocareum.com/v1\",  # <-- Add this line for Vocareum\n",
    "    model_name=\"text-embedding-ada-002\"\n",
    ")"
   ],
   "outputs": [],
   "execution_count": 16
  },
  {
   "cell_type": "code",
   "id": "0ec23893",
   "metadata": {
    "ExecuteTime": {
     "end_time": "2025-07-24T00:26:49.682950Z",
     "start_time": "2025-07-24T00:26:49.675562Z"
    }
   },
   "source": [
    "# TODO: Create a collection\n",
    "# Choose any name you want\n",
    "collection = chroma_client.get_or_create_collection(\n",
    "    name=\"udaplay\",\n",
    "    embedding_function=embedding_fn,\n",
    "    metadata={\"hnsw:space\": \"cosine\"}\n",
    ")\n",
    "print(f\"Successfully loaded or created collection '{collection.name}'.\")"
   ],
   "outputs": [
    {
     "name": "stderr",
     "output_type": "stream",
     "text": [
      "Failed to send telemetry event ClientCreateCollectionEvent: capture() takes 1 positional argument but 3 were given\n"
     ]
    },
    {
     "name": "stdout",
     "output_type": "stream",
     "text": [
      "Successfully loaded or created collection 'udaplay'.\n"
     ]
    }
   ],
   "execution_count": 17
  },
  {
   "cell_type": "markdown",
   "id": "c0d2ed1b",
   "metadata": {},
   "source": [
    "### Game Data Processing and Importing"
   ]
  },
  {
   "cell_type": "code",
   "id": "bbf8f99b",
   "metadata": {},
   "source": [
    "# Load and process game data\n",
    "def load_game_data(data_dir):\n",
    "    game_data = []\n",
    "    for file_name in sorted(os.listdir(data_dir)):\n",
    "        if not file_name.endswith('.json'):\n",
    "            continue\n",
    "        file_path = os.path.join(data_dir, file_name)\n",
    "        with open(file_path, 'r', encoding='utf-8') as f:\n",
    "            game = json.load(f)\n",
    "        game_data.append(game)\n",
    "    return game_data\n",
    "\n",
    "# Insert data into ChromaDB\n",
    "def insert_data_into_chromadb(collection, game_data):\n",
    "    for game in game_data:\n",
    "        content = f\"[{game['Platform']}] {game['Name']} ({game['YearOfRelease']}) - {game['Description']}\"\n",
    "        doc_id = f\"{game['Name'].replace(' ', '_')}\"\n",
    "        collection.add(\n",
    "            ids=[doc_id],\n",
    "            documents=[content],\n",
    "            metadatas=[game]\n",
    "        )\n",
    "    print('Data inserted into ChromaDB.')\n",
    "\n",
    "# Load game data and insert\n",
    "data_dir = 'games'\n",
    "game_data = load_game_data(data_dir)\n",
    "insert_data_into_chromadb(collection, game_data)\n"
   ],
   "outputs": [],
   "execution_count": null
  },
  {
   "cell_type": "code",
   "id": "eb83fbb1",
   "metadata": {},
   "source": [
    "# Ensure the directory \"games\" exists\n",
    "data_dir = \"games\"\n",
    "\n",
    "# Iterate over all JSON files and add them to ChromaDB\n",
    "for file_name in sorted(os.listdir(data_dir)):\n",
    "    if not file_name.endswith(\".json\"):\n",
    "        continue\n",
    "    file_path = os.path.join(data_dir, file_name)\n",
    "    with open(file_path, \"r\", encoding=\"utf-8\") as f:\n",
    "        game = json.load(f)\n",
    "    content = f\"[{game['Platform']}] {game['Name']} ({game['YearOfRelease']}) - {game['Description']}\"\n",
    "    doc_id = os.path.splitext(file_name)[0]\n",
    "    collection.add(\n",
    "        ids=[doc_id],\n",
    "        documents=[content],\n",
    "        metadatas=[game]\n",
    "    )\n",
    "print(\"Documents added to ChromaDB.\")"
   ],
   "outputs": [],
   "execution_count": null
  }
 ],
 "metadata": {
  "kernelspec": {
   "display_name": ".venv",
   "language": "python",
   "name": "python3"
  },
  "language_info": {
   "codemirror_mode": {
    "name": "ipython",
    "version": 3
   },
   "file_extension": ".py",
   "mimetype": "text/x-python",
   "name": "python",
   "nbconvert_exporter": "python",
   "pygments_lexer": "ipython3",
   "version": "3.11.10"
  }
 },
 "nbformat": 4,
 "nbformat_minor": 5
}
